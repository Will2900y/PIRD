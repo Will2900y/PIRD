{
 "cells": [
  {
   "cell_type": "markdown",
   "id": "ce02f630",
   "metadata": {},
   "source": [
    "# ARIMA and SARIMA models"
   ]
  },
  {
   "cell_type": "markdown",
   "id": "3a2c6b3d",
   "metadata": {},
   "source": [
    "This notebook has the purpose to create 2 models: \n",
    "\n",
    "- ARIMA model\n",
    "- SARIMA model\n",
    "\n",
    "These models can be used to forecast any type of time series, the goal with this notebook is to create these forecast models for domestic hot water (DHW) and energy consumptions (energy to heat the water)\n",
    "\n",
    "For this notebook it will be created an ARIMA and a SARIMA model for one set of data as an example, but these models can be reproduced for any time series\n"
   ]
  },
  {
   "cell_type": "markdown",
   "id": "a1169eca",
   "metadata": {},
   "source": [
    "**1) Import of the packages and libraries**"
   ]
  },
  {
   "cell_type": "code",
   "execution_count": null,
   "id": "056aba00",
   "metadata": {},
   "outputs": [],
   "source": [
    "import warnings\n",
    "warnings.filterwarnings('ignore')\n",
    "\n",
    "import numpy as np, pandas as pd\n",
    "from statsmodels.graphics.tsaplots import plot_acf, plot_pacf\n",
    "import matplotlib.pyplot as plt\n",
    "import seaborn as sn\n",
    "from statsmodels.tsa.stattools import acf"
   ]
  },
  {
   "cell_type": "markdown",
   "id": "00b79820",
   "metadata": {},
   "source": [
    "**2) Import of the data**\n",
    "\n",
    "The first thing is to select the data that it will be used, the data referent to DHW and energy consumptions for residential apartments will be used\n",
    "\n",
    "A random data was chosen for this example: from 26/01/2021 to 31/01/2021\n",
    "\n",
    "The important aspect is the duration, 5 days\n",
    "\n",
    "All the code was written considering this duration, if changed it will be necessary to altere the size of training, testing and forescating, these topics will be discussed later in this notebook"
   ]
  },
  {
   "cell_type": "markdown",
   "id": "91a1a7a2",
   "metadata": {},
   "source": [
    "Down below the data must be chosen, in this example the data chosen is: \"ap.25 energy consumption\""
   ]
  },
  {
   "cell_type": "code",
   "execution_count": null,
   "id": "c3426188",
   "metadata": {},
   "outputs": [],
   "source": [
    "#Energy Consumption\n",
    "df25 = pd.read_csv ('./data_csv/25-IECS.csv', parse_dates=['Date'], index_col=['Date'])\n",
    "df25 = df25 ['2021-01-26 00:00:00' : '2021-01-31 00:00:00']"
   ]
  },
  {
   "cell_type": "markdown",
   "id": "bc140bbf",
   "metadata": {},
   "source": [
    "**3) Resample the data in a time step of 1 hour**"
   ]
  },
  {
   "cell_type": "markdown",
   "id": "6d10d27b",
   "metadata": {},
   "source": [
    "The data is measured approximately each 3 minutes, so in order to have a better analysis during 5 days a resample of the data in a time step of 1 hour will be done\n",
    "\n",
    "Resampling the data in time steps of 1 hour it will give 120 values"
   ]
  },
  {
   "cell_type": "code",
   "execution_count": null,
   "id": "e6f9a96f",
   "metadata": {},
   "outputs": [],
   "source": [
    "#Energy consumption\n",
    "s = df25.Value.resample('H').mean() "
   ]
  },
  {
   "cell_type": "markdown",
   "id": "63855b92",
   "metadata": {},
   "source": [
    "**4) Visualization of the data**"
   ]
  },
  {
   "cell_type": "code",
   "execution_count": null,
   "id": "1bc30a27",
   "metadata": {},
   "outputs": [],
   "source": [
    "#Energy\n",
    "plt.figure(figsize=(15,6))\n",
    "plt.plot(s, label='ap.25', lw=3 ) \n",
    "plt.xlabel('Date')\n",
    "plt.ylabel('Power (W)')\n",
    "plt.title('Energy consumption', fontsize=15)\n",
    "plt.legend(loc='upper left', fontsize=20)\n",
    "plt.show()"
   ]
  },
  {
   "cell_type": "markdown",
   "id": "26d73666",
   "metadata": {},
   "source": [
    "**5) Verify if the data is stationary using Dickey-Fuller**\n",
    "\n",
    "Normally if p-value is under 0,05 the data is considered as stationary. Otherwise differentiation will be necessary until the p-value is lower or equal to 0,05\n",
    "\n",
    "To verify if the data is stationary a Dickey-Fuller test is used. The test will be done without differentiaition and with 1 differentiation for the data chosen\n",
    "\n",
    "To verify with 2 differentiation, it is necessary to add \"diff().diff().\" after \"s.\", for 3,4... differentiaiton the same principle is applied\n"
   ]
  },
  {
   "cell_type": "markdown",
   "id": "fabb8657",
   "metadata": {},
   "source": [
    "**5.1) Without differentiation**"
   ]
  },
  {
   "cell_type": "code",
   "execution_count": null,
   "id": "73b3ff57",
   "metadata": {},
   "outputs": [],
   "source": [
    "from statsmodels.tsa.stattools import adfuller\n",
    "from numpy import log\n",
    "result = adfuller(s.dropna())\n",
    "print('ADF Statistic: %f' % result[0])\n",
    "print('p-value: %f' % result[1])"
   ]
  },
  {
   "cell_type": "markdown",
   "id": "4864b799",
   "metadata": {},
   "source": [
    "**5.2) With 1 differentiation**"
   ]
  },
  {
   "cell_type": "code",
   "execution_count": null,
   "id": "1c635d15",
   "metadata": {},
   "outputs": [],
   "source": [
    "from statsmodels.tsa.stattools import adfuller\n",
    "from numpy import log\n",
    "result1 = adfuller(s.diff().dropna())\n",
    "print('ADF Statistic: %f' % result1[0])\n",
    "print('p-value: %f' % result1[1])"
   ]
  },
  {
   "cell_type": "markdown",
   "id": "f199d3e6",
   "metadata": {},
   "source": [
    "In the example the data is already stationary without differentiation, so we can consider \"d=0\", otherwise the \"d\" equals the number of differentiations"
   ]
  },
  {
   "cell_type": "markdown",
   "id": "9d6dbd92",
   "metadata": {},
   "source": [
    "**6) Division of the data in training and testing**\n",
    "\n",
    "A division of the data is necessary, one part for train the model and a second part for test the model\n",
    "\n",
    "It will be considered a ratio of 80:20 \n",
    "\n",
    "- 80% training\n",
    "- 20% testing\n",
    "\n",
    "In this case (5 days with time step of 1h) there are 120 values, so 96 values are for training and 24 are for testing"
   ]
  },
  {
   "cell_type": "code",
   "execution_count": null,
   "id": "d0175c22",
   "metadata": {},
   "outputs": [],
   "source": [
    "train = s[:96]   \n",
    "test = s[96:]"
   ]
  },
  {
   "cell_type": "markdown",
   "id": "aeb9e8ea",
   "metadata": {},
   "source": [
    "**7) ARIMA Model**"
   ]
  },
  {
   "cell_type": "markdown",
   "id": "ab29a160",
   "metadata": {},
   "source": [
    "ARIMA is a univariate time series model with 3 components: \n",
    "\n",
    "- Autoregressive (AR): responsible for forecasting future points from a linear regression\n",
    "- Integrate Average (I): resposible for the differentiation of the data\n",
    "- Moving Average (MA): responsible for performing a regression to forecast future values, but in contrast to the AR component, this regression is based on past errors and not on past observations.\n",
    "\n",
    "ARIMA models are frequently indicated as ARIMA (p,d,q), where:\n",
    "\n",
    "- p represents the AR component\n",
    "- d represents the I component\n",
    "- q represents the MA component\n",
    "\n"
   ]
  },
  {
   "cell_type": "markdown",
   "id": "00d16e24",
   "metadata": {},
   "source": [
    "**8) Creation of the model using AUTO ARIMA**\n",
    "\n",
    "AUTO ARIMA automatically selects the parameters of ARIMA model\n",
    "\n",
    "The inputs are the data for trainig the model (in this case the variable \"train\") and d (differentiation parameter)\n",
    "\n",
    "- d=0 data is stationary\n",
    "- d>0 when data was differentiated\n",
    "\n",
    "Even though Dickey-Fuller test gives the parameter \"d\", sometimes the model that was more suitible using another \"d\".\n",
    "\n",
    "For this raison it is strongly recommended to test for d=0 and d=1 (usually 1 differentiation is enough) and compare the results to choose the model that is more suitible\n"
   ]
  },
  {
   "cell_type": "markdown",
   "id": "943a1785",
   "metadata": {},
   "source": [
    "For a better understanding of the function:\n",
    "https://alkaline-ml.com/pmdarima/modules/generated/pmdarima.arima.auto_arima.html"
   ]
  },
  {
   "cell_type": "code",
   "execution_count": null,
   "id": "61bfc714",
   "metadata": {},
   "outputs": [],
   "source": [
    "#! pip install pmdarima\n",
    "import pmdarima as pm\n",
    "model_auto = pm.auto_arima(train, d=0, trace=False)                 \n",
    "print(model_auto.summary())"
   ]
  },
  {
   "cell_type": "markdown",
   "id": "dd20b917",
   "metadata": {},
   "source": [
    "The model summary gives the most suitible ARIMA model (p,d,q), in this case ARIMA (1,0,1)\n",
    "\n",
    "in model_auto1 = ARIMA (train, order=(1, 0, 1)) replace the values for the parameters (p,d,q) chosen by AUTO ARIMA, in the example (1,0,1)"
   ]
  },
  {
   "cell_type": "code",
   "execution_count": null,
   "id": "502de7f8",
   "metadata": {},
   "outputs": [],
   "source": [
    "from statsmodels.tsa.arima.model import ARIMA  \n",
    "model_auto1 = ARIMA(train, order=(1, 0, 1)) \n",
    "fitted_auto1 = model_auto1.fit() \n",
    "fc_auto = fitted_auto1.forecast(24, alpha=0.05)\n"
   ]
  },
  {
   "cell_type": "markdown",
   "id": "90bd343a",
   "metadata": {},
   "source": [
    "fc_auto is the forescast, in this case it has 24 values (20% testing)"
   ]
  },
  {
   "cell_type": "markdown",
   "id": "f5063793",
   "metadata": {},
   "source": [
    "**8.1) Plot of the testing, traininig and forescast (ARIMA Model)**"
   ]
  },
  {
   "cell_type": "code",
   "execution_count": null,
   "id": "5989f67b",
   "metadata": {},
   "outputs": [],
   "source": [
    "plt.figure(figsize=(12,5), dpi=100)\n",
    "plt.plot(train, label='training') \n",
    "plt.plot(test, label='test') \n",
    "plt.plot(fc_auto, label='forecast ARIMA') \n",
    "plt.title('Forecast vs training and testing')\n",
    "plt.xlabel('Date')\n",
    "plt.ylabel('Power (W)')\n",
    "plt.legend(loc='upper left', fontsize=8)\n",
    "plt.show()"
   ]
  },
  {
   "cell_type": "markdown",
   "id": "014f5c8a",
   "metadata": {},
   "source": [
    "**9) Model evaluation**\n",
    "\n",
    "3 types of evaluation will be done :\n",
    "\n",
    "- Mean Absolute Percentage Error (MAPE): \n",
    "\n",
    "$$\\frac{1}{n} \\sum_{t=1}^{n}\\frac{|F_{t} - A_{t}|} {|A_{t}|}$$\n",
    "\n",
    "- Mean Absolute Error (MAE):\n",
    "\n",
    "$$\\frac{1}{n} \\sum_{t=1}^{n}|F_{t} - A_{t}|$$\n",
    "\n",
    "        Where the values are:\n",
    "\n",
    "$$F_{t}=forecast$$\n",
    "$$A_{t}=actual$$\n",
    "\n",
    "- Correlation"
   ]
  },
  {
   "cell_type": "code",
   "execution_count": null,
   "id": "18cb5951",
   "metadata": {},
   "outputs": [],
   "source": [
    "def forecast_accuracy_auto (forecast, actual):\n",
    "    mape = np.mean(np.abs(forecast - actual)/np.abs(actual))\n",
    "    mae = np.mean(np.abs(forecast - actual))   \n",
    "    corr = (np.corrcoef(forecast, actual)[0,1]) * 100   \n",
    "    \n",
    "    return({'mape':mape, 'mae': mae, 'correlation (%)':corr})\n",
    "\n",
    "Error_Arima = forecast_accuracy_auto (fc_auto, test)\n",
    "print(Error_Arima)"
   ]
  },
  {
   "cell_type": "markdown",
   "id": "c0f52a59",
   "metadata": {},
   "source": [
    "A comparison of the model using d=0 and d=1 must be done as mentionned, for changing the parameter \"d\" go back to the section 8\n",
    "\n",
    "The selection of the model is based in 3 criteria:\n",
    "\n",
    "- Analysis of the errors\n",
    "\n",
    "- Correlation\n",
    "\n",
    "- Visual analysis of the graphs"
   ]
  },
  {
   "cell_type": "markdown",
   "id": "5d9ef65e",
   "metadata": {},
   "source": [
    "**In this case the model chosen is the ARIMA (1,0,1)**"
   ]
  },
  {
   "cell_type": "markdown",
   "id": "b9e2bc7b",
   "metadata": {},
   "source": [
    "**10) SARIMA model**"
   ]
  },
  {
   "cell_type": "markdown",
   "id": "cd20ad8f",
   "metadata": {},
   "source": [
    "Seasonal ARIMA or SARIMA is the ARIMA model but including seasonality\n",
    "\n",
    "SARIMA has 7 parameters, the same 3 from ARIMA with additional 4, which are:\n",
    "- P (seasonal autoregressive terms)\n",
    "- D (number of seasonal differences)\n",
    "- Q (number of seasonal lagged forecast errors in the prediction equation)\n",
    "- m (number of periods in each season)\n",
    "\n",
    "SARIMA model are referred as SARIMA (p,d,q) x (P,D,Q) [m]"
   ]
  },
  {
   "cell_type": "markdown",
   "id": "422e5cfc",
   "metadata": {},
   "source": [
    "**11) Creation of the second model using AUTO SARIMA**"
   ]
  },
  {
   "cell_type": "code",
   "execution_count": null,
   "id": "51b3b475",
   "metadata": {},
   "outputs": [],
   "source": [
    "#!pip3 install pyramid-arima\n",
    "import pmdarima as pm\n"
   ]
  },
  {
   "cell_type": "markdown",
   "id": "2cfc2467",
   "metadata": {},
   "source": [
    "The same function used in item 8 will be used, but this time adding 4 new parameters mentionned before (P,D,Q)[m]\n",
    "\n",
    "These parameters are releated with the seasonality of the data\n",
    "\n",
    "The paramater \"m\" must be chosen by the user. The choice of the parameter is by analyzing the data, for example monthly data have m=12.\n",
    "\n",
    "In the case of energy consumption m=24 showed to be suitible.\n",
    "\n",
    "The same analysis made for ARIMA concerning the parameter \"d\" must be done for SARIMA for the same reasons"
   ]
  },
  {
   "cell_type": "code",
   "execution_count": null,
   "id": "2a9b144a",
   "metadata": {},
   "outputs": [],
   "source": [
    "smodel = pm.auto_arima(train,test='adf',max_p=3, max_q=3, m=24,start_P=0, seasonal=True,d=1, D=1, trace=False, \n",
    "                       error_action='ignore', suppress_warnings=True, stepwise=True)\n",
    "\n",
    "smodel.summary()"
   ]
  },
  {
   "cell_type": "markdown",
   "id": "588ff492",
   "metadata": {},
   "source": [
    "The smodel summary gives the most suitible ARIMA model (p,d,q ) x (P,D,Q,m)\n",
    "\n",
    "in smodel1 = ARIMA (train, order=(0, 1, 0), seasonal_order = (1,1,0,24)) replace the values for the parameters (p,d,q) (P,D,Q,m) chosen by AUTO ARIMA"
   ]
  },
  {
   "cell_type": "code",
   "execution_count": null,
   "id": "db6e6b88",
   "metadata": {},
   "outputs": [],
   "source": [
    "smodel1 = ARIMA(train, order=(0, 1, 0), seasonal_order = (1, 1, 0, 24)) \n",
    "fitted_smodel1 = smodel1.fit()\n",
    "fc_smodel = fitted_smodel1.forecast(24, alpha=0.05) "
   ]
  },
  {
   "cell_type": "markdown",
   "id": "9e23c0d3",
   "metadata": {},
   "source": [
    "fc_smodel is the forescast, in this case it has 24 values (20% testing)"
   ]
  },
  {
   "cell_type": "markdown",
   "id": "cc961e1a",
   "metadata": {},
   "source": [
    "**11.1) Plot of the testing, traininig and forescast (SARIMA Model)**"
   ]
  },
  {
   "cell_type": "code",
   "execution_count": null,
   "id": "25d6690c",
   "metadata": {},
   "outputs": [],
   "source": [
    "plt.figure(figsize=(12,5), dpi=100)\n",
    "plt.plot(train, label='training') \n",
    "plt.plot(test, label='test') \n",
    "plt.plot(fc_smodel, label='forecast SARIMA') \n",
    "plt.title('Forecast vs training and testing')\n",
    "plt.xlabel('Date')\n",
    "plt.ylabel('Power (W)')\n",
    "plt.legend(loc='upper left', fontsize=8)\n",
    "plt.show()"
   ]
  },
  {
   "cell_type": "markdown",
   "id": "c42721de",
   "metadata": {},
   "source": [
    "**12) Model Evaluation**"
   ]
  },
  {
   "cell_type": "markdown",
   "id": "8fcdf37b",
   "metadata": {},
   "source": [
    "In this section the same model evaluations from the section 9 were used"
   ]
  },
  {
   "cell_type": "code",
   "execution_count": null,
   "id": "fef1cd17",
   "metadata": {},
   "outputs": [],
   "source": [
    "def forecast_accuracy_SARIMA (forecast, actual):\n",
    "    mape = np.mean(np.abs(forecast - actual)/np.abs(actual))\n",
    "    mae = np.mean(np.abs(forecast - actual))    \n",
    "    corr = (np.corrcoef(forecast, actual)[0,1]) * 100   \n",
    "   \n",
    "    return({'mape':mape,'mae': mae, 'correlation(%)':corr})\n",
    "\n",
    "Error_Sarima = forecast_accuracy_SARIMA (fc_smodel, test)\n",
    "print(Error_Sarima)"
   ]
  },
  {
   "cell_type": "markdown",
   "id": "605c1590",
   "metadata": {},
   "source": [
    "As in the ARIMA model, when analyzing SARIMA model a comparison using d=0 and d=1 must be done, it is due the same reasons mentionned for the ARIMA model"
   ]
  },
  {
   "cell_type": "markdown",
   "id": "097013e8",
   "metadata": {},
   "source": [
    "**In this case the model chosen is SARIMA (0,1,0) x (1,1,0)[24]**"
   ]
  },
  {
   "cell_type": "markdown",
   "id": "7a5c0282",
   "metadata": {},
   "source": [
    "**13) Comparison between ARIMA and SARIMA**"
   ]
  },
  {
   "cell_type": "markdown",
   "id": "fd7133ed",
   "metadata": {},
   "source": [
    "Now a comparison of the 2 models is possible"
   ]
  },
  {
   "cell_type": "code",
   "execution_count": null,
   "id": "8180ec08",
   "metadata": {},
   "outputs": [],
   "source": [
    "Error_Arima = pd.DataFrame(list(Error_Arima.items()),columns = ['Loss function','Value'])\n",
    "Error_Sarima = pd.DataFrame(list(Error_Sarima.items()),columns = ['Loss function','Value'])\n",
    "Comp_A_S = Error_Arima[['Loss function','Value']].copy()\n",
    "\n",
    "Comp_A_S.insert(1, 'Value Sarima', Error_Sarima.Value)\n",
    "Comp_A_S.rename(columns = {'Value':'Value ARIMA'}, inplace = True)\n",
    "\n",
    "print(Comp_A_S)"
   ]
  },
  {
   "cell_type": "code",
   "execution_count": null,
   "id": "bd014ac0",
   "metadata": {},
   "outputs": [],
   "source": [
    "Comp_A_S.plot(kind = 'bar', x = 'Loss function')\n",
    "plt.title('ARIMA X SARIMA', fontsize=15)\n",
    "plt.legend(loc='upper right', fontsize=10)\n",
    "plt.show()"
   ]
  },
  {
   "cell_type": "markdown",
   "id": "af1bbe54",
   "metadata": {},
   "source": [
    "In this example the SARIMA model showed a lower MAE and a higher correlation than the ARIMA model\n",
    "\n",
    "It can be concluded that the SARIMA model was capable to predict with a high accuracy the pattern of the energy consumption for this apartment"
   ]
  },
  {
   "cell_type": "markdown",
   "id": "75ab6dc9",
   "metadata": {},
   "source": [
    "For the creation of the models it was used the tutorial available at: https://www.machinelearningplus.com/time-series/arima-model-time-series-forecasting-python/"
   ]
  }
 ],
 "metadata": {
  "kernelspec": {
   "display_name": "Python 3 (ipykernel)",
   "language": "python",
   "name": "python3"
  },
  "language_info": {
   "codemirror_mode": {
    "name": "ipython",
    "version": 3
   },
   "file_extension": ".py",
   "mimetype": "text/x-python",
   "name": "python",
   "nbconvert_exporter": "python",
   "pygments_lexer": "ipython3",
   "version": "3.9.12"
  }
 },
 "nbformat": 4,
 "nbformat_minor": 5
}
