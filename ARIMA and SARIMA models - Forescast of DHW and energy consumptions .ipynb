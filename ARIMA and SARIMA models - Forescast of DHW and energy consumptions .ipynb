{
 "cells": [
  {
   "cell_type": "markdown",
   "id": "ce02f630",
   "metadata": {},
   "source": [
    "# ARIMA and SARIMA models"
   ]
  },
  {
   "cell_type": "markdown",
   "id": "a1169eca",
   "metadata": {},
   "source": [
    "**1) Import of the packages and libraries**"
   ]
  },
  {
   "cell_type": "code",
   "execution_count": null,
   "id": "056aba00",
   "metadata": {},
   "outputs": [],
   "source": [
    "import warnings\n",
    "warnings.filterwarnings('ignore')\n",
    "\n",
    "import numpy as np, pandas as pd\n",
    "from statsmodels.graphics.tsaplots import plot_acf, plot_pacf\n",
    "import matplotlib.pyplot as plt\n",
    "import seaborn as sn\n",
    "from statsmodels.tsa.stattools import acf"
   ]
  },
  {
   "cell_type": "markdown",
   "id": "00b79820",
   "metadata": {},
   "source": [
    "**2) Import of the data**\n",
    "\n",
    "The data chosen was from 26/01/2021 to 31/02/2021\n",
    "\n",
    "Nomenclature:\n",
    "\n",
    "- df(ap.)() - electrical consumptions        \n",
    "- df(ap.)(w) - water consumption\n",
    "\n",
    "After pd.read_csv (insert location of the file in your computer)"
   ]
  },
  {
   "cell_type": "code",
   "execution_count": null,
   "id": "c3426188",
   "metadata": {},
   "outputs": [],
   "source": [
    "#Energy Consumption\n",
    "df25 = pd.read_csv ()\n",
    "df25 = df25 ['2021-01-26 00:00:00' : '2021-01-31 00:00:00']\n",
    "\n",
    "df34 = pd.read_csv ()\n",
    "df34 = df34 ['2021-01-26 00:00:00' : '2021-01-31 00:00:00']\n",
    "\n",
    "df64 = pd.read_csv ()\n",
    "df64 = df64 ['2021-01-26 00:00:00' : '2021-01-31 00:00:00']\n",
    "\n",
    "#DHW\n",
    "df25w = pd.read_csv()\n",
    "df25w = df25w ['2021-01-26 00:00:00' : '2021-01-31 00:00:00']\n",
    "\n",
    "df34w = pd.read_csv()\n",
    "df34w = df34w ['2021-01-26 00:00:00' : '2021-01-31 00:00:00']\n",
    "\n",
    "df64w = pd.read_csv()\n",
    "df64w = df64w ['2021-01-26 00:00:00' : '2021-01-31 00:00:00']"
   ]
  },
  {
   "cell_type": "markdown",
   "id": "bc140bbf",
   "metadata": {},
   "source": [
    "**3) Resample the data in a time step of 1 hour**\n",
    "\n"
   ]
  },
  {
   "cell_type": "code",
   "execution_count": null,
   "id": "e6f9a96f",
   "metadata": {},
   "outputs": [],
   "source": [
    "#Energy consumption\n",
    "s25 = df25.Value.resample('H').mean() \n",
    "s34 = df34.Value.resample('H').mean() \n",
    "s64 = df64.Value.resample('H').mean() \n",
    "\n",
    "#DHW\n",
    "s25w = df25w.Value.resample('H').mean() \n",
    "s34w = df34w.Value.resample('H').mean() \n",
    "s64w = df64w.Value.resample('H').mean() "
   ]
  },
  {
   "cell_type": "markdown",
   "id": "e69ff94f",
   "metadata": {},
   "source": [
    "**4) Correlation analysis**"
   ]
  },
  {
   "cell_type": "code",
   "execution_count": null,
   "id": "e8ae302e",
   "metadata": {},
   "outputs": [],
   "source": [
    "#Energy\n",
    "matriz_corre = {'ap.25' : s25,\n",
    "                'ap.34' : s34,\n",
    "                'ap.64' : s64}\n",
    "df_matriz = pd.DataFrame(matriz_corre)\n",
    "df1_matriz = df_matriz.corr()\n",
    "sn.heatmap(df1_matriz, annot=True, vmax=1, vmin=-1, center=0, cmap='vlag')\n",
    "plt.show()\n",
    "\n",
    "#DWH\n",
    "matriz_corre_w = {'ap.25' : s25w,\n",
    "                'ap.34' : s34w,\n",
    "                'ap.64' : s64w}\n",
    "df_matriz_w = pd.DataFrame(matriz_corre_w)\n",
    "df1_matriz_w = df_matriz_w.corr()\n",
    "sn.heatmap(df1_matriz_w, annot=True, vmax=1, vmin=-1, center=0, cmap='vlag')\n",
    "plt.show()"
   ]
  },
  {
   "cell_type": "markdown",
   "id": "63855b92",
   "metadata": {},
   "source": [
    "**5) Visualization of the data of the 3 ap.**"
   ]
  },
  {
   "cell_type": "code",
   "execution_count": null,
   "id": "1bc30a27",
   "metadata": {},
   "outputs": [],
   "source": [
    "#Energy\n",
    "plt.figure(figsize=(15,6))\n",
    "plt.plot(s25, label='ap.25', lw=3 ) \n",
    "plt.plot(s34, label='ap.34', lw=3 )\n",
    "plt.plot(s64, label='ap.64', lw=3 )\n",
    "plt.xlabel('Date')\n",
    "plt.ylabel('Power (W)')\n",
    "plt.title('Energy consumption', fontsize=15)\n",
    "plt.legend(loc='upper left', fontsize=20)\n",
    "plt.show()\n",
    "\n",
    "#DHW\n",
    "plt.figure(figsize=(15,6))\n",
    "plt.plot(s25w, label='ap.25', lw=3 ) \n",
    "plt.plot(s34w, label='ap.34', lw=3 )\n",
    "plt.plot(s64w, label='ap.64', lw=3 )\n",
    "plt.xlabel('Date')\n",
    "plt.ylabel('Flow rate (l/s)')\n",
    "plt.title('DHW consumption', fontsize=15)\n",
    "plt.legend(loc='upper left', fontsize=20)\n",
    "plt.show()"
   ]
  },
  {
   "cell_type": "markdown",
   "id": "bd8a0578",
   "metadata": {},
   "source": [
    "**6) Selection of the ap. (Energy or DHW consumption)**\n",
    "\n",
    "For example analysis of the ap.25 (Energy)\n",
    "\n"
   ]
  },
  {
   "cell_type": "code",
   "execution_count": null,
   "id": "1051778c",
   "metadata": {},
   "outputs": [],
   "source": [
    "s = s25 "
   ]
  },
  {
   "cell_type": "markdown",
   "id": "26d73666",
   "metadata": {},
   "source": [
    "**7) Verify if the data is stationary using Dickey-Fuller**\n",
    "\n",
    "Normally if p-value is under 0,05 we consider data as stationary\n"
   ]
  },
  {
   "cell_type": "code",
   "execution_count": null,
   "id": "73b3ff57",
   "metadata": {},
   "outputs": [],
   "source": [
    "from statsmodels.tsa.stattools import adfuller\n",
    "from numpy import log\n",
    "result = adfuller(s.dropna())\n",
    "print('ADF Statistic: %f' % result[0])\n",
    "print('p-value: %f' % result[1])"
   ]
  },
  {
   "cell_type": "markdown",
   "id": "9d6dbd92",
   "metadata": {},
   "source": [
    "**8) Division of the data in training and testing**\n",
    "\n",
    "We are going to consider a ratio of 80:20 \n",
    "\n",
    "- 80% training\n",
    "- 20% testing\n",
    "\n",
    "In this case we have 120 values, so 96 values are for training and 24 are for testing"
   ]
  },
  {
   "cell_type": "code",
   "execution_count": null,
   "id": "d0175c22",
   "metadata": {},
   "outputs": [],
   "source": [
    "train = s[:96]   \n",
    "test = s[96:]"
   ]
  },
  {
   "cell_type": "markdown",
   "id": "00d16e24",
   "metadata": {},
   "source": [
    "**9) Creation of the model using AUTO ARIMA**\n",
    "\n",
    "AUTO ARIMA automatically selects the parameters of ARIMA model\n",
    "\n",
    "The inputs are the data fro trainig the model (train) and d (differetiation parameter)\n",
    "\n",
    "- d=0 data is stationary\n",
    "- d>0 when data is not stationary\n",
    "\n",
    "d=None the AUTO ARIMA will select d, but normally is always 0 even when the data is not stationary, because of that we strongly recommend to test for d=0 and d=1 (usually enough)\n"
   ]
  },
  {
   "cell_type": "code",
   "execution_count": null,
   "id": "61bfc714",
   "metadata": {},
   "outputs": [],
   "source": [
    "! pip install pmdarima\n",
    "import pmdarima as pm\n",
    "model_auto = pm.auto_arima(train, d=None, trace=True)                 \n",
    "print(model_auto.summary())"
   ]
  },
  {
   "cell_type": "markdown",
   "id": "dd20b917",
   "metadata": {},
   "source": [
    "The model summary gives the most suitible ARIMA model (p,d,q)\n",
    "\n",
    "in model_auto1 = ARIMA (train, order=(0, 1, 0)) replace the values for the parameters (p,d,q) chosen by AUTO ARIMA"
   ]
  },
  {
   "cell_type": "code",
   "execution_count": null,
   "id": "502de7f8",
   "metadata": {},
   "outputs": [],
   "source": [
    "from statsmodels.tsa.arima.model import ARIMA  \n",
    "model_auto1 = ARIMA(train, order=(0, 1, 0)) \n",
    "fitted_auto1 = model_auto1.fit() \n",
    "fc_auto = fitted_auto1.forecast(24, alpha=0.05)\n"
   ]
  },
  {
   "cell_type": "markdown",
   "id": "90bd343a",
   "metadata": {},
   "source": [
    "fc_auto is our forescast, in this case it has 24 values (20% testing)"
   ]
  },
  {
   "cell_type": "markdown",
   "id": "f5063793",
   "metadata": {},
   "source": [
    "Plot of the testing, traininig and forescast (ARIMA Model)"
   ]
  },
  {
   "cell_type": "code",
   "execution_count": null,
   "id": "5989f67b",
   "metadata": {},
   "outputs": [],
   "source": [
    "plt.figure(figsize=(12,5), dpi=100)\n",
    "plt.plot(train, label='training') \n",
    "plt.plot(test, label='test') \n",
    "plt.plot(fc_auto, label='forecast ARIMA') \n",
    "plt.title('Forecast vs training and testing')\n",
    "plt.xlabel('Date')\n",
    "plt.ylabel('Power (W)')\n",
    "plt.legend(loc='upper left', fontsize=8)\n",
    "plt.show()"
   ]
  },
  {
   "cell_type": "markdown",
   "id": "014f5c8a",
   "metadata": {},
   "source": [
    "**10) Model evaluation**\n",
    "\n",
    "3 types of evaluation will be done :\n",
    "\n",
    "- MAPE\n",
    "- MAE\n",
    "- Correlation"
   ]
  },
  {
   "cell_type": "code",
   "execution_count": null,
   "id": "18cb5951",
   "metadata": {},
   "outputs": [],
   "source": [
    "def forecast_accuracy_auto (forecast, actual):\n",
    "    mape = np.mean(np.abs(forecast - actual)/np.abs(actual))\n",
    "    mae = np.mean(np.abs(forecast - actual))   \n",
    "    corr = np.corrcoef(forecast, actual)[0,1]   \n",
    "    return({'mape':mape, mae': mae, 'corr':corr})\n",
    "\n",
    "forecast_accuracy_auto (fc_auto, test)"
   ]
  },
  {
   "cell_type": "markdown",
   "id": "c0f52a59",
   "metadata": {},
   "source": [
    "A comparison using d=0 and d=1 must be done\n",
    "\n",
    "The selection of the model is based in 3 criteria:\n",
    "\n",
    "- Analysis of the errors\n",
    "\n",
    "- Correlation\n",
    "\n",
    "- Visual analysis of the graphs"
   ]
  },
  {
   "cell_type": "code",
   "execution_count": null,
   "id": "1fc68ad4",
   "metadata": {},
   "outputs": [],
   "source": []
  },
  {
   "cell_type": "code",
   "execution_count": null,
   "id": "51b3b475",
   "metadata": {},
   "outputs": [],
   "source": []
  },
  {
   "cell_type": "code",
   "execution_count": null,
   "id": "2a9b144a",
   "metadata": {},
   "outputs": [],
   "source": []
  }
 ],
 "metadata": {
  "kernelspec": {
   "display_name": "Python 3 (ipykernel)",
   "language": "python",
   "name": "python3"
  },
  "language_info": {
   "codemirror_mode": {
    "name": "ipython",
    "version": 3
   },
   "file_extension": ".py",
   "mimetype": "text/x-python",
   "name": "python",
   "nbconvert_exporter": "python",
   "pygments_lexer": "ipython3",
   "version": "3.9.12"
  }
 },
 "nbformat": 4,
 "nbformat_minor": 5
}
