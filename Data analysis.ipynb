{
 "cells": [
  {
   "cell_type": "markdown",
   "id": "0fa38d29",
   "metadata": {},
   "source": [
    "# Analysis of the data"
   ]
  },
  {
   "cell_type": "markdown",
   "id": "2d8aab1a",
   "metadata": {},
   "source": [
    "This analysis focus in compare the similarites of the domestic hot water (DHW) and energy (to heat the water) consumptions between differents apartments from the same building\n",
    "\n",
    "In this case it will be analyzed 3 apartments, they will be called:\n",
    "- 25\n",
    "- 34\n",
    "- 64\n",
    "\n",
    "This first analysis will be done for a short period of time, so it will be possible to examine the patterns in a shorter scale of time "
   ]
  },
  {
   "cell_type": "markdown",
   "id": "93fe9a4a",
   "metadata": {},
   "source": [
    "**1) Import of the packages and libraries**"
   ]
  },
  {
   "cell_type": "code",
   "execution_count": null,
   "id": "509f6859",
   "metadata": {},
   "outputs": [],
   "source": [
    "import warnings\n",
    "warnings.filterwarnings('ignore')\n",
    "\n",
    "import numpy as np, pandas as pd\n",
    "from statsmodels.graphics.tsaplots import plot_acf, plot_pacf\n",
    "import matplotlib.pyplot as plt\n",
    "import seaborn as sn\n",
    "from statsmodels.tsa.stattools import acf"
   ]
  },
  {
   "cell_type": "markdown",
   "id": "125c6605",
   "metadata": {},
   "source": [
    "**2) Import of the data**\n",
    "\n",
    "A random data was chosen: from 26/01/2021 to 31/01/2021\n",
    "\n",
    "The important aspect is the duration, 5 days, because a analysis for short periods of time will be done\n",
    "\n",
    "Nomenclature of the data:\n",
    "\n",
    "- df(ap.)() - electrical consumptions        \n",
    "- df(ap.)(w) - water consumption\n",
    "\n",
    "After pd.read_csv (insert location of the file in your computer)"
   ]
  },
  {
   "cell_type": "code",
   "execution_count": null,
   "id": "f0b3bab2",
   "metadata": {},
   "outputs": [],
   "source": [
    "#Energy Consumption\n",
    "df25 = pd.read_csv ('./data_csv/25-EC.csv', parse_dates=['Date'], index_col=['Date'])\n",
    "df25 = df25 ['2021-01-26 00:00:00' : '2021-01-31 00:00:00']\n",
    "\n",
    "df34 = pd.read_csv ('./data_csv/34-EC.csv', parse_dates=['Date'], index_col=['Date'])\n",
    "df34 = df34 ['2021-01-26 00:00:00' : '2021-01-31 00:00:00']\n",
    "\n",
    "df64 = pd.read_csv ('./data_csv/64-EC.csv', parse_dates=['Date'], index_col=['Date'])\n",
    "df64 = df64 ['2021-01-26 00:00:00' : '2021-01-31 00:00:00']\n",
    "\n",
    "#DHW\n",
    "df25w = pd.read_csv ('./data_csv/25-IECS.csv', parse_dates=['Date'], index_col=['Date'])\n",
    "df25w = df25w ['2021-01-26 00:00:00' : '2021-01-31 00:00:00']\n",
    "\n",
    "df34w = pd.read_csv('./data_csv/34-IECS.csv', parse_dates=['Date'], index_col=['Date'])\n",
    "df34w = df34w ['2021-01-26 00:00:00' : '2021-01-31 00:00:00']\n",
    "\n",
    "df64w = pd.read_csv('./data_csv/64-IECS.csv', parse_dates=['Date'], index_col=['Date'])\n",
    "df64w = df64w ['2021-01-26 00:00:00' : '2021-01-31 00:00:00']"
   ]
  },
  {
   "cell_type": "markdown",
   "id": "97755661",
   "metadata": {},
   "source": [
    "**3) Resample the data in a time step of 1 hour**"
   ]
  },
  {
   "cell_type": "markdown",
   "id": "c5362e93",
   "metadata": {},
   "source": [
    "The data is measured approximately each 3 minutes, so in order to have a better analysis during 5 days a resample of the data in a time step of 1 hour will be done\n",
    "\n",
    "Resampling the data in time steps of 1 hour it will give 120 values"
   ]
  },
  {
   "cell_type": "code",
   "execution_count": null,
   "id": "8365d162",
   "metadata": {},
   "outputs": [],
   "source": [
    "#Energy consumption\n",
    "s25 = df25.Value.resample('H').mean() \n",
    "s34 = df34.Value.resample('H').mean() \n",
    "s64 = df64.Value.resample('H').mean() \n",
    "\n",
    "#DHW\n",
    "s25w = df25w.Value.resample('H').mean() \n",
    "s34w = df34w.Value.resample('H').mean() \n",
    "s64w = df64w.Value.resample('H').mean() "
   ]
  },
  {
   "cell_type": "markdown",
   "id": "ce3e6466",
   "metadata": {},
   "source": [
    "**4) Correlation analysis**"
   ]
  },
  {
   "cell_type": "markdown",
   "id": "7d855ce6",
   "metadata": {},
   "source": [
    "A creation of a correlation matrix is a great tool to help analyzing the similarites between the data\n",
    "\n",
    "Down below 2 matrix are created, one for energy consumption and another for DHW consumption"
   ]
  },
  {
   "cell_type": "code",
   "execution_count": null,
   "id": "0f9ee6ec",
   "metadata": {},
   "outputs": [],
   "source": [
    "#Energy\n",
    "matriz_corre = {'ap.25' : s25,\n",
    "                'ap.34' : s34,\n",
    "                'ap.64' : s64}\n",
    "df_matriz = pd.DataFrame(matriz_corre)\n",
    "df1_matriz = df_matriz.corr()\n",
    "sn.heatmap(df1_matriz, annot=True, vmax=1, vmin=-1, center=0, cmap='vlag')\n",
    "plt.title('Energy consumption correlation', fontsize=15)\n",
    "plt.show()\n",
    "\n",
    "#DWH\n",
    "matriz_corre_w = {'ap.25' : s25w,\n",
    "                'ap.34' : s34w,\n",
    "                'ap.64' : s64w}\n",
    "df_matriz_w = pd.DataFrame(matriz_corre_w)\n",
    "df1_matriz_w = df_matriz_w.corr()\n",
    "sn.heatmap(df1_matriz_w, annot=True, vmax=1, vmin=-1, center=0, cmap='vlag')\n",
    "plt.title('DHW consumption correlation', fontsize=15)\n",
    "plt.show()"
   ]
  },
  {
   "cell_type": "markdown",
   "id": "46128c1d",
   "metadata": {},
   "source": [
    "**5) Visualization of the data of the 3 apartments**"
   ]
  },
  {
   "cell_type": "code",
   "execution_count": null,
   "id": "b17318b3",
   "metadata": {},
   "outputs": [],
   "source": [
    "#Energy\n",
    "plt.figure(figsize=(15,6))\n",
    "plt.plot(s25, label='ap.25', lw=3 ) \n",
    "plt.plot(s34, label='ap.34', lw=3 )\n",
    "plt.plot(s64, label='ap.64', lw=3 )\n",
    "plt.xlabel('Date')\n",
    "plt.ylabel('Power (W)')\n",
    "plt.title('Energy consumption', fontsize=15)\n",
    "plt.legend(loc='upper left', fontsize=20)\n",
    "plt.show()\n",
    "\n",
    "#DHW\n",
    "plt.figure(figsize=(15,6))\n",
    "plt.plot(s25w, label='ap.25', lw=3 ) \n",
    "plt.plot(s34w, label='ap.34', lw=3 )\n",
    "plt.plot(s64w, label='ap.64', lw=3 )\n",
    "plt.xlabel('Date')\n",
    "plt.ylabel('Flow rate (l/s)')\n",
    "plt.title('DHW consumption', fontsize=15)\n",
    "plt.legend(loc='upper left', fontsize=20)\n",
    "plt.show()"
   ]
  },
  {
   "cell_type": "markdown",
   "id": "7854a08d",
   "metadata": {},
   "source": [
    "After evaluated the correlation matrix and the graphs, it is possible to affirm:\n",
    "\n",
    "- Energy consumption: \n",
    "    - ap.25 and 34 present similar behavior, with peaks in the night and smaller peaks in the morning\n",
    "    - ap.64 presents a different behavior with peaks in the afternoon\n",
    "- DHW consumption: \n",
    "    - None of the 3 apartments showed similar behavior"
   ]
  },
  {
   "cell_type": "code",
   "execution_count": null,
   "id": "a6d913de",
   "metadata": {},
   "outputs": [],
   "source": []
  }
 ],
 "metadata": {
  "kernelspec": {
   "display_name": "Python 3 (ipykernel)",
   "language": "python",
   "name": "python3"
  },
  "language_info": {
   "codemirror_mode": {
    "name": "ipython",
    "version": 3
   },
   "file_extension": ".py",
   "mimetype": "text/x-python",
   "name": "python",
   "nbconvert_exporter": "python",
   "pygments_lexer": "ipython3",
   "version": "3.9.12"
  }
 },
 "nbformat": 4,
 "nbformat_minor": 5
}
